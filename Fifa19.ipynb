{
 "cells": [
  {
   "cell_type": "markdown",
   "metadata": {},
   "source": [
    "## Importing Libraries"
   ]
  },
  {
   "cell_type": "code",
   "execution_count": 310,
   "metadata": {},
   "outputs": [],
   "source": [
    "import numpy as np\n",
    "import pandas as pd\n",
    "import matplotlib.pyplot as plt\n",
    "import seaborn as sns"
   ]
  },
  {
   "cell_type": "code",
   "execution_count": 311,
   "metadata": {},
   "outputs": [],
   "source": [
    "df= pd.read_csv('fifa.csv')"
   ]
  },
  {
   "cell_type": "code",
   "execution_count": 312,
   "metadata": {},
   "outputs": [
    {
     "data": {
      "text/html": [
       "<div>\n",
       "<style scoped>\n",
       "    .dataframe tbody tr th:only-of-type {\n",
       "        vertical-align: middle;\n",
       "    }\n",
       "\n",
       "    .dataframe tbody tr th {\n",
       "        vertical-align: top;\n",
       "    }\n",
       "\n",
       "    .dataframe thead th {\n",
       "        text-align: right;\n",
       "    }\n",
       "</style>\n",
       "<table border=\"1\" class=\"dataframe\">\n",
       "  <thead>\n",
       "    <tr style=\"text-align: right;\">\n",
       "      <th></th>\n",
       "      <th>Unnamed: 0</th>\n",
       "      <th>ID</th>\n",
       "      <th>Name</th>\n",
       "      <th>Age</th>\n",
       "      <th>Photo</th>\n",
       "      <th>Nationality</th>\n",
       "      <th>Flag</th>\n",
       "      <th>Overall</th>\n",
       "      <th>Potential</th>\n",
       "      <th>Club</th>\n",
       "      <th>...</th>\n",
       "      <th>Composure</th>\n",
       "      <th>Marking</th>\n",
       "      <th>StandingTackle</th>\n",
       "      <th>SlidingTackle</th>\n",
       "      <th>GKDiving</th>\n",
       "      <th>GKHandling</th>\n",
       "      <th>GKKicking</th>\n",
       "      <th>GKPositioning</th>\n",
       "      <th>GKReflexes</th>\n",
       "      <th>Release Clause</th>\n",
       "    </tr>\n",
       "  </thead>\n",
       "  <tbody>\n",
       "    <tr>\n",
       "      <th>0</th>\n",
       "      <td>0</td>\n",
       "      <td>158023</td>\n",
       "      <td>L. Messi</td>\n",
       "      <td>31</td>\n",
       "      <td>https://cdn.sofifa.org/players/4/19/158023.png</td>\n",
       "      <td>Argentina</td>\n",
       "      <td>https://cdn.sofifa.org/flags/52.png</td>\n",
       "      <td>94</td>\n",
       "      <td>94</td>\n",
       "      <td>FC Barcelona</td>\n",
       "      <td>...</td>\n",
       "      <td>96.0</td>\n",
       "      <td>33.0</td>\n",
       "      <td>28.0</td>\n",
       "      <td>26.0</td>\n",
       "      <td>6.0</td>\n",
       "      <td>11.0</td>\n",
       "      <td>15.0</td>\n",
       "      <td>14.0</td>\n",
       "      <td>8.0</td>\n",
       "      <td>€226.5M</td>\n",
       "    </tr>\n",
       "    <tr>\n",
       "      <th>1</th>\n",
       "      <td>1</td>\n",
       "      <td>20801</td>\n",
       "      <td>Cristiano Ronaldo</td>\n",
       "      <td>33</td>\n",
       "      <td>https://cdn.sofifa.org/players/4/19/20801.png</td>\n",
       "      <td>Portugal</td>\n",
       "      <td>https://cdn.sofifa.org/flags/38.png</td>\n",
       "      <td>94</td>\n",
       "      <td>94</td>\n",
       "      <td>Juventus</td>\n",
       "      <td>...</td>\n",
       "      <td>95.0</td>\n",
       "      <td>28.0</td>\n",
       "      <td>31.0</td>\n",
       "      <td>23.0</td>\n",
       "      <td>7.0</td>\n",
       "      <td>11.0</td>\n",
       "      <td>15.0</td>\n",
       "      <td>14.0</td>\n",
       "      <td>11.0</td>\n",
       "      <td>€127.1M</td>\n",
       "    </tr>\n",
       "    <tr>\n",
       "      <th>2</th>\n",
       "      <td>2</td>\n",
       "      <td>190871</td>\n",
       "      <td>Neymar Jr</td>\n",
       "      <td>26</td>\n",
       "      <td>https://cdn.sofifa.org/players/4/19/190871.png</td>\n",
       "      <td>Brazil</td>\n",
       "      <td>https://cdn.sofifa.org/flags/54.png</td>\n",
       "      <td>92</td>\n",
       "      <td>93</td>\n",
       "      <td>Paris Saint-Germain</td>\n",
       "      <td>...</td>\n",
       "      <td>94.0</td>\n",
       "      <td>27.0</td>\n",
       "      <td>24.0</td>\n",
       "      <td>33.0</td>\n",
       "      <td>9.0</td>\n",
       "      <td>9.0</td>\n",
       "      <td>15.0</td>\n",
       "      <td>15.0</td>\n",
       "      <td>11.0</td>\n",
       "      <td>€228.1M</td>\n",
       "    </tr>\n",
       "    <tr>\n",
       "      <th>3</th>\n",
       "      <td>3</td>\n",
       "      <td>193080</td>\n",
       "      <td>De Gea</td>\n",
       "      <td>27</td>\n",
       "      <td>https://cdn.sofifa.org/players/4/19/193080.png</td>\n",
       "      <td>Spain</td>\n",
       "      <td>https://cdn.sofifa.org/flags/45.png</td>\n",
       "      <td>91</td>\n",
       "      <td>93</td>\n",
       "      <td>Manchester United</td>\n",
       "      <td>...</td>\n",
       "      <td>68.0</td>\n",
       "      <td>15.0</td>\n",
       "      <td>21.0</td>\n",
       "      <td>13.0</td>\n",
       "      <td>90.0</td>\n",
       "      <td>85.0</td>\n",
       "      <td>87.0</td>\n",
       "      <td>88.0</td>\n",
       "      <td>94.0</td>\n",
       "      <td>€138.6M</td>\n",
       "    </tr>\n",
       "    <tr>\n",
       "      <th>4</th>\n",
       "      <td>4</td>\n",
       "      <td>192985</td>\n",
       "      <td>K. De Bruyne</td>\n",
       "      <td>27</td>\n",
       "      <td>https://cdn.sofifa.org/players/4/19/192985.png</td>\n",
       "      <td>Belgium</td>\n",
       "      <td>https://cdn.sofifa.org/flags/7.png</td>\n",
       "      <td>91</td>\n",
       "      <td>92</td>\n",
       "      <td>Manchester City</td>\n",
       "      <td>...</td>\n",
       "      <td>88.0</td>\n",
       "      <td>68.0</td>\n",
       "      <td>58.0</td>\n",
       "      <td>51.0</td>\n",
       "      <td>15.0</td>\n",
       "      <td>13.0</td>\n",
       "      <td>5.0</td>\n",
       "      <td>10.0</td>\n",
       "      <td>13.0</td>\n",
       "      <td>€196.4M</td>\n",
       "    </tr>\n",
       "  </tbody>\n",
       "</table>\n",
       "<p>5 rows × 89 columns</p>\n",
       "</div>"
      ],
      "text/plain": [
       "   Unnamed: 0      ID               Name  Age  \\\n",
       "0           0  158023           L. Messi   31   \n",
       "1           1   20801  Cristiano Ronaldo   33   \n",
       "2           2  190871          Neymar Jr   26   \n",
       "3           3  193080             De Gea   27   \n",
       "4           4  192985       K. De Bruyne   27   \n",
       "\n",
       "                                            Photo Nationality  \\\n",
       "0  https://cdn.sofifa.org/players/4/19/158023.png   Argentina   \n",
       "1   https://cdn.sofifa.org/players/4/19/20801.png    Portugal   \n",
       "2  https://cdn.sofifa.org/players/4/19/190871.png      Brazil   \n",
       "3  https://cdn.sofifa.org/players/4/19/193080.png       Spain   \n",
       "4  https://cdn.sofifa.org/players/4/19/192985.png     Belgium   \n",
       "\n",
       "                                  Flag  Overall  Potential  \\\n",
       "0  https://cdn.sofifa.org/flags/52.png       94         94   \n",
       "1  https://cdn.sofifa.org/flags/38.png       94         94   \n",
       "2  https://cdn.sofifa.org/flags/54.png       92         93   \n",
       "3  https://cdn.sofifa.org/flags/45.png       91         93   \n",
       "4   https://cdn.sofifa.org/flags/7.png       91         92   \n",
       "\n",
       "                  Club  ... Composure Marking StandingTackle  SlidingTackle  \\\n",
       "0         FC Barcelona  ...      96.0    33.0           28.0           26.0   \n",
       "1             Juventus  ...      95.0    28.0           31.0           23.0   \n",
       "2  Paris Saint-Germain  ...      94.0    27.0           24.0           33.0   \n",
       "3    Manchester United  ...      68.0    15.0           21.0           13.0   \n",
       "4      Manchester City  ...      88.0    68.0           58.0           51.0   \n",
       "\n",
       "  GKDiving  GKHandling  GKKicking  GKPositioning GKReflexes Release Clause  \n",
       "0      6.0        11.0       15.0           14.0        8.0        €226.5M  \n",
       "1      7.0        11.0       15.0           14.0       11.0        €127.1M  \n",
       "2      9.0         9.0       15.0           15.0       11.0        €228.1M  \n",
       "3     90.0        85.0       87.0           88.0       94.0        €138.6M  \n",
       "4     15.0        13.0        5.0           10.0       13.0        €196.4M  \n",
       "\n",
       "[5 rows x 89 columns]"
      ]
     },
     "execution_count": 312,
     "metadata": {},
     "output_type": "execute_result"
    }
   ],
   "source": [
    "df.head()"
   ]
  },
  {
   "cell_type": "code",
   "execution_count": 313,
   "metadata": {},
   "outputs": [
    {
     "data": {
      "text/plain": [
       "Index(['Unnamed: 0', 'ID', 'Name', 'Age', 'Photo', 'Nationality', 'Flag',\n",
       "       'Overall', 'Potential', 'Club', 'Club Logo', 'Value', 'Wage', 'Special',\n",
       "       'Preferred Foot', 'International Reputation', 'Weak Foot',\n",
       "       'Skill Moves', 'Work Rate', 'Body Type', 'Real Face', 'Position',\n",
       "       'Jersey Number', 'Joined', 'Loaned From', 'Contract Valid Until',\n",
       "       'Height', 'Weight', 'LS', 'ST', 'RS', 'LW', 'LF', 'CF', 'RF', 'RW',\n",
       "       'LAM', 'CAM', 'RAM', 'LM', 'LCM', 'CM', 'RCM', 'RM', 'LWB', 'LDM',\n",
       "       'CDM', 'RDM', 'RWB', 'LB', 'LCB', 'CB', 'RCB', 'RB', 'Crossing',\n",
       "       'Finishing', 'HeadingAccuracy', 'ShortPassing', 'Volleys', 'Dribbling',\n",
       "       'Curve', 'FKAccuracy', 'LongPassing', 'BallControl', 'Acceleration',\n",
       "       'SprintSpeed', 'Agility', 'Reactions', 'Balance', 'ShotPower',\n",
       "       'Jumping', 'Stamina', 'Strength', 'LongShots', 'Aggression',\n",
       "       'Interceptions', 'Positioning', 'Vision', 'Penalties', 'Composure',\n",
       "       'Marking', 'StandingTackle', 'SlidingTackle', 'GKDiving', 'GKHandling',\n",
       "       'GKKicking', 'GKPositioning', 'GKReflexes', 'Release Clause'],\n",
       "      dtype='object')"
      ]
     },
     "execution_count": 313,
     "metadata": {},
     "output_type": "execute_result"
    }
   ],
   "source": [
    "df.columns"
   ]
  },
  {
   "cell_type": "markdown",
   "metadata": {},
   "source": [
    "## Finding Null Values"
   ]
  },
  {
   "cell_type": "code",
   "execution_count": 314,
   "metadata": {},
   "outputs": [
    {
     "data": {
      "text/plain": [
       "Unnamed: 0                      0\n",
       "ID                              0\n",
       "Name                            0\n",
       "Age                             0\n",
       "Photo                           0\n",
       "Nationality                     0\n",
       "Flag                            0\n",
       "Overall                         0\n",
       "Potential                       0\n",
       "Club                          241\n",
       "Club Logo                       0\n",
       "Value                           0\n",
       "Wage                            0\n",
       "Special                         0\n",
       "Preferred Foot                 48\n",
       "International Reputation       48\n",
       "Weak Foot                      48\n",
       "Skill Moves                    48\n",
       "Work Rate                      48\n",
       "Body Type                      48\n",
       "Real Face                      48\n",
       "Position                       60\n",
       "Jersey Number                  60\n",
       "Joined                       1553\n",
       "Loaned From                 16943\n",
       "Contract Valid Until          289\n",
       "Height                         48\n",
       "Weight                         48\n",
       "LS                           2085\n",
       "ST                           2085\n",
       "RS                           2085\n",
       "LW                           2085\n",
       "LF                           2085\n",
       "CF                           2085\n",
       "RF                           2085\n",
       "RW                           2085\n",
       "LAM                          2085\n",
       "CAM                          2085\n",
       "RAM                          2085\n",
       "LM                           2085\n",
       "LCM                          2085\n",
       "CM                           2085\n",
       "RCM                          2085\n",
       "RM                           2085\n",
       "LWB                          2085\n",
       "LDM                          2085\n",
       "CDM                          2085\n",
       "RDM                          2085\n",
       "RWB                          2085\n",
       "LB                           2085\n",
       "LCB                          2085\n",
       "CB                           2085\n",
       "RCB                          2085\n",
       "RB                           2085\n",
       "Crossing                       48\n",
       "Finishing                      48\n",
       "HeadingAccuracy                48\n",
       "ShortPassing                   48\n",
       "Volleys                        48\n",
       "Dribbling                      48\n",
       "Curve                          48\n",
       "FKAccuracy                     48\n",
       "LongPassing                    48\n",
       "BallControl                    48\n",
       "Acceleration                   48\n",
       "SprintSpeed                    48\n",
       "Agility                        48\n",
       "Reactions                      48\n",
       "Balance                        48\n",
       "ShotPower                      48\n",
       "Jumping                        48\n",
       "Stamina                        48\n",
       "Strength                       48\n",
       "LongShots                      48\n",
       "Aggression                     48\n",
       "Interceptions                  48\n",
       "Positioning                    48\n",
       "Vision                         48\n",
       "Penalties                      48\n",
       "Composure                      48\n",
       "Marking                        48\n",
       "StandingTackle                 48\n",
       "SlidingTackle                  48\n",
       "GKDiving                       48\n",
       "GKHandling                     48\n",
       "GKKicking                      48\n",
       "GKPositioning                  48\n",
       "GKReflexes                     48\n",
       "Release Clause               1564\n",
       "dtype: int64"
      ]
     },
     "execution_count": 314,
     "metadata": {},
     "output_type": "execute_result"
    }
   ],
   "source": [
    "pd.set_option('display.max_rows', df.shape[0]+1)\n",
    "df.isnull().sum()"
   ]
  },
  {
   "cell_type": "code",
   "execution_count": 315,
   "metadata": {},
   "outputs": [
    {
     "data": {
      "text/plain": [
       "18207"
      ]
     },
     "execution_count": 315,
     "metadata": {},
     "output_type": "execute_result"
    }
   ],
   "source": [
    "len(df)"
   ]
  },
  {
   "cell_type": "markdown",
   "metadata": {},
   "source": [
    "## Replacing null value of selected attributes with its mean value"
   ]
  },
  {
   "cell_type": "code",
   "execution_count": 316,
   "metadata": {},
   "outputs": [],
   "source": [
    "for i in ['Crossing','Finishing','HeadingAccuracy','ShortPassing','Volleys','Dribbling','Curve','FKAccuracy','LongPassing','BallControl','Acceleration','SprintSpeed','Agility','Reactions','Balance','ShotPower','Jumping','Stamina','Strength','LongShots','Aggression','Interceptions','Positioning','Vision','Penalties','Composure','Marking','StandingTackle','SlidingTackle','GKDiving','GKHandling','GKKicking','GKPositioning','GKReflexes']:\n",
    "    df[i].fillna(df[i].mean(), inplace = True)"
   ]
  },
  {
   "cell_type": "code",
   "execution_count": 317,
   "metadata": {},
   "outputs": [
    {
     "data": {
      "text/plain": [
       "Unnamed: 0                      0\n",
       "ID                              0\n",
       "Name                            0\n",
       "Age                             0\n",
       "Photo                           0\n",
       "Nationality                     0\n",
       "Flag                            0\n",
       "Overall                         0\n",
       "Potential                       0\n",
       "Club                          241\n",
       "Club Logo                       0\n",
       "Value                           0\n",
       "Wage                            0\n",
       "Special                         0\n",
       "Preferred Foot                 48\n",
       "International Reputation       48\n",
       "Weak Foot                      48\n",
       "Skill Moves                    48\n",
       "Work Rate                      48\n",
       "Body Type                      48\n",
       "Real Face                      48\n",
       "Position                       60\n",
       "Jersey Number                  60\n",
       "Joined                       1553\n",
       "Loaned From                 16943\n",
       "Contract Valid Until          289\n",
       "Height                         48\n",
       "Weight                         48\n",
       "LS                           2085\n",
       "ST                           2085\n",
       "RS                           2085\n",
       "LW                           2085\n",
       "LF                           2085\n",
       "CF                           2085\n",
       "RF                           2085\n",
       "RW                           2085\n",
       "LAM                          2085\n",
       "CAM                          2085\n",
       "RAM                          2085\n",
       "LM                           2085\n",
       "LCM                          2085\n",
       "CM                           2085\n",
       "RCM                          2085\n",
       "RM                           2085\n",
       "LWB                          2085\n",
       "LDM                          2085\n",
       "CDM                          2085\n",
       "RDM                          2085\n",
       "RWB                          2085\n",
       "LB                           2085\n",
       "LCB                          2085\n",
       "CB                           2085\n",
       "RCB                          2085\n",
       "RB                           2085\n",
       "Crossing                        0\n",
       "Finishing                       0\n",
       "HeadingAccuracy                 0\n",
       "ShortPassing                    0\n",
       "Volleys                         0\n",
       "Dribbling                       0\n",
       "Curve                           0\n",
       "FKAccuracy                      0\n",
       "LongPassing                     0\n",
       "BallControl                     0\n",
       "Acceleration                    0\n",
       "SprintSpeed                     0\n",
       "Agility                         0\n",
       "Reactions                       0\n",
       "Balance                         0\n",
       "ShotPower                       0\n",
       "Jumping                         0\n",
       "Stamina                         0\n",
       "Strength                        0\n",
       "LongShots                       0\n",
       "Aggression                      0\n",
       "Interceptions                   0\n",
       "Positioning                     0\n",
       "Vision                          0\n",
       "Penalties                       0\n",
       "Composure                       0\n",
       "Marking                         0\n",
       "StandingTackle                  0\n",
       "SlidingTackle                   0\n",
       "GKDiving                        0\n",
       "GKHandling                      0\n",
       "GKKicking                       0\n",
       "GKPositioning                   0\n",
       "GKReflexes                      0\n",
       "Release Clause               1564\n",
       "dtype: int64"
      ]
     },
     "execution_count": 317,
     "metadata": {},
     "output_type": "execute_result"
    }
   ],
   "source": [
    "df.isnull().sum()"
   ]
  },
  {
   "cell_type": "markdown",
   "metadata": {},
   "source": [
    "## Replacing player with no club with 'No Club'"
   ]
  },
  {
   "cell_type": "code",
   "execution_count": 318,
   "metadata": {},
   "outputs": [],
   "source": [
    "df['Club'].fillna('No Club', inplace = True)"
   ]
  },
  {
   "cell_type": "code",
   "execution_count": 319,
   "metadata": {},
   "outputs": [
    {
     "data": {
      "text/plain": [
       "165lbs    1483\n",
       "154lbs    1439\n",
       "176lbs    1041\n",
       "172lbs     987\n",
       "159lbs     946\n",
       "161lbs     936\n",
       "163lbs     901\n",
       "170lbs     860\n",
       "168lbs     836\n",
       "174lbs     705\n",
       "150lbs     660\n",
       "157lbs     617\n",
       "181lbs     584\n",
       "183lbs     513\n",
       "179lbs     507\n",
       "152lbs     506\n",
       "143lbs     505\n",
       "187lbs     448\n",
       "148lbs     435\n",
       "185lbs     432\n",
       "146lbs     365\n",
       "141lbs     322\n",
       "190lbs     288\n",
       "194lbs     278\n",
       "139lbs     206\n",
       "192lbs     193\n",
       "137lbs     165\n",
       "198lbs     156\n",
       "196lbs     143\n",
       "132lbs     127\n",
       "201lbs      93\n",
       "134lbs      87\n",
       "203lbs      75\n",
       "205lbs      60\n",
       "207lbs      45\n",
       "209lbs      34\n",
       "130lbs      33\n",
       "128lbs      31\n",
       "212lbs      23\n",
       "123lbs      18\n",
       "126lbs      14\n",
       "214lbs      11\n",
       "121lbs      10\n",
       "216lbs       9\n",
       "117lbs       6\n",
       "218lbs       5\n",
       "119lbs       4\n",
       "223lbs       3\n",
       "225lbs       3\n",
       "236lbs       2\n",
       "110lbs       2\n",
       "227lbs       2\n",
       "243lbs       1\n",
       "220lbs       1\n",
       "229lbs       1\n",
       "234lbs       1\n",
       "115lbs       1\n",
       "Name: Weight, dtype: int64"
      ]
     },
     "execution_count": 319,
     "metadata": {},
     "output_type": "execute_result"
    }
   ],
   "source": [
    "df['Weight'].value_counts()"
   ]
  },
  {
   "cell_type": "code",
   "execution_count": 320,
   "metadata": {},
   "outputs": [
    {
     "data": {
      "text/plain": [
       "6'0     2881\n",
       "5'10    2479\n",
       "5'9     2238\n",
       "5'11    2159\n",
       "6'2     2015\n",
       "6'1     1908\n",
       "6'3      990\n",
       "5'8      946\n",
       "5'7      905\n",
       "6'4      749\n",
       "5'6      316\n",
       "6'5      246\n",
       "5'5      145\n",
       "6'6       93\n",
       "5'4       30\n",
       "6'7       21\n",
       "5'3       18\n",
       "6'8       10\n",
       "5'2        5\n",
       "5'1        3\n",
       "6'9        2\n",
       "Name: Height, dtype: int64"
      ]
     },
     "execution_count": 320,
     "metadata": {},
     "output_type": "execute_result"
    }
   ],
   "source": [
    "df['Height'].value_counts()"
   ]
  },
  {
   "cell_type": "markdown",
   "metadata": {},
   "source": [
    "## Filling Height with 5'11"
   ]
  },
  {
   "cell_type": "code",
   "execution_count": 321,
   "metadata": {},
   "outputs": [],
   "source": [
    "df['Height'].fillna('5\\'11', inplace = True)"
   ]
  },
  {
   "cell_type": "code",
   "execution_count": 322,
   "metadata": {},
   "outputs": [
    {
     "data": {
      "text/plain": [
       "6'0     2881\n",
       "5'10    2479\n",
       "5'9     2238\n",
       "5'11    2207\n",
       "6'2     2015\n",
       "6'1     1908\n",
       "6'3      990\n",
       "5'8      946\n",
       "5'7      905\n",
       "6'4      749\n",
       "5'6      316\n",
       "6'5      246\n",
       "5'5      145\n",
       "6'6       93\n",
       "5'4       30\n",
       "6'7       21\n",
       "5'3       18\n",
       "6'8       10\n",
       "5'2        5\n",
       "5'1        3\n",
       "6'9        2\n",
       "Name: Height, dtype: int64"
      ]
     },
     "execution_count": 322,
     "metadata": {},
     "output_type": "execute_result"
    }
   ],
   "source": [
    "df['Height'].value_counts()"
   ]
  },
  {
   "cell_type": "markdown",
   "metadata": {},
   "source": [
    "## Filling weight with 200lbs"
   ]
  },
  {
   "cell_type": "code",
   "execution_count": 323,
   "metadata": {},
   "outputs": [],
   "source": [
    "df['Weight'].fillna('200lbs', inplace = True)"
   ]
  },
  {
   "cell_type": "markdown",
   "metadata": {},
   "source": [
    "## Filling 'Contract Valid Until' with 2019"
   ]
  },
  {
   "cell_type": "code",
   "execution_count": 324,
   "metadata": {},
   "outputs": [
    {
     "data": {
      "text/plain": [
       "2019            4819\n",
       "2021            4360\n",
       "2020            4027\n",
       "2022            1477\n",
       "2023            1053\n",
       "Jun 30, 2019     931\n",
       "2018             886\n",
       "Dec 31, 2018     144\n",
       "May 31, 2019      60\n",
       "Jan 1, 2019       51\n",
       "2024              23\n",
       "Jun 30, 2020      14\n",
       "Jan 31, 2019      13\n",
       "2025               7\n",
       "Jan 5, 2019        6\n",
       "Jan 2, 2019        6\n",
       "Oct 14, 2019       5\n",
       "Jan 12, 2019       5\n",
       "Jan 6, 2019        4\n",
       "Jan 25, 2019       3\n",
       "Jan 7, 2019        3\n",
       "Dec 31, 2019       3\n",
       "Nov 30, 2018       2\n",
       "May 31, 2020       2\n",
       "2026               2\n",
       "Dec 1, 2019        2\n",
       "Jan 15, 2019       1\n",
       "Jan 3, 2019        1\n",
       "Jan 18, 2019       1\n",
       "Jan 20, 2019       1\n",
       "Feb 27, 2020       1\n",
       "Jun 1, 2019        1\n",
       "Jan 30, 2019       1\n",
       "Jan 11, 2019       1\n",
       "May 4, 2019        1\n",
       "Jan 4, 2019        1\n",
       "Name: Contract Valid Until, dtype: int64"
      ]
     },
     "execution_count": 324,
     "metadata": {},
     "output_type": "execute_result"
    }
   ],
   "source": [
    "df['Contract Valid Until'].value_counts()"
   ]
  },
  {
   "cell_type": "code",
   "execution_count": 325,
   "metadata": {},
   "outputs": [],
   "source": [
    "df['Contract Valid Until'].fillna(2019, inplace = True)"
   ]
  },
  {
   "cell_type": "code",
   "execution_count": 326,
   "metadata": {},
   "outputs": [
    {
     "data": {
      "text/plain": [
       "Atalanta                               20\n",
       "Sassuolo                               18\n",
       "SL Benfica                             17\n",
       "Juventus                               17\n",
       "Sporting CP                            14\n",
       "Watford                                12\n",
       "Villarreal CF                          12\n",
       "Real Madrid                            12\n",
       "Inter                                  12\n",
       "Manchester City                        12\n",
       "FC Red Bull Salzburg                   12\n",
       "Liverpool                              12\n",
       "Chelsea                                12\n",
       "Napoli                                 12\n",
       "Udinese                                12\n",
       "Leeds United                           12\n",
       "AS Monaco                              12\n",
       "Genoa                                  11\n",
       "Racing Club                            11\n",
       "Wolverhampton Wanderers                11\n",
       "Sheffield United                       11\n",
       "Aston Villa                            11\n",
       "Brighton & Hove Albion                 10\n",
       "Everton                                10\n",
       "Atlético Madrid                        10\n",
       "Roma                                   10\n",
       "FC Porto                               10\n",
       "Manchester United                       9\n",
       "Norwich City                            9\n",
       "Sampdoria                               9\n",
       "Fulham                                  9\n",
       "Al Hilal                                9\n",
       "Málaga CF                               9\n",
       "Nottingham Forest                       9\n",
       "Fiorentina                              9\n",
       "Southampton                             9\n",
       "Pachuca                                 8\n",
       "KAA Gent                                8\n",
       "Bologna                                 8\n",
       "Boca Juniors                            8\n",
       "Atlético Nacional                       8\n",
       "West Ham United                         8\n",
       "Tigres U.A.N.L.                         8\n",
       "Bristol City                            8\n",
       "Derby County                            8\n",
       "FC Barcelona                            8\n",
       "Rangers FC                              8\n",
       "Bournemouth                             7\n",
       "Sevilla FC                              7\n",
       "Chievo Verona                           7\n",
       "Club América                            7\n",
       "Torino                                  7\n",
       "FC Midtjylland                          7\n",
       "Middlesbrough                           7\n",
       "River Plate                             7\n",
       "Universidad Católica                    7\n",
       "Universidad de Chile                    7\n",
       "Deportivo Alavés                        7\n",
       "VfB Stuttgart                           7\n",
       "Real Betis                              6\n",
       "Hellas Verona                           6\n",
       "PSV                                     6\n",
       "West Bromwich Albion                    6\n",
       "Millwall                                6\n",
       "Stoke City                              6\n",
       "SC Braga                                6\n",
       "Birmingham City                         6\n",
       "Colo-Colo                               6\n",
       "RSC Anderlecht                          6\n",
       "Arsenal                                 6\n",
       "Lazio                                   6\n",
       "Newcastle United                        6\n",
       "Wigan Athletic                          6\n",
       "Independiente                           6\n",
       "Cagliari                                6\n",
       "Guangzhou Evergrande Taobao FC          5\n",
       "Levante UD                              5\n",
       "AS Saint-Étienne                        5\n",
       "Monterrey                               5\n",
       "Rotherham United                        5\n",
       "Al Ahli                                 5\n",
       "Preston North End                       5\n",
       "Hannover 96                             5\n",
       "LOSC Lille                              5\n",
       "Paris Saint-Germain                     5\n",
       "Deportivo de La Coruña                  5\n",
       "Legia Warszawa                          5\n",
       "Internacional                           5\n",
       "Cruz Azul                               5\n",
       "Burnley                                 5\n",
       "Stade Rennais FC                        5\n",
       "UD Las Palmas                           5\n",
       "SPAL                                    5\n",
       "Getafe CF                               5\n",
       "Grasshopper Club Zürich                 5\n",
       "Al Nassr                                5\n",
       "Rosario Central                         5\n",
       "Leicester City                          5\n",
       "Newell's Old Boys                       5\n",
       "Brentford                               5\n",
       "Club Tijuana                            4\n",
       "Ipswich Town                            4\n",
       "Guadalajara                             4\n",
       "Deportivo Cali                          4\n",
       "Toulouse Football Club                  4\n",
       "Cardiff City                            4\n",
       "Empoli                                  4\n",
       "Blackburn Rovers                        4\n",
       "Reading                                 4\n",
       "Crystal Palace                          4\n",
       "Medipol Başakşehir FK                   4\n",
       "Queens Park Rangers                     4\n",
       "Athletic Club de Bilbao                 4\n",
       "Swansea City                            4\n",
       "Molde FK                                4\n",
       "Incheon United FC                       4\n",
       "SD Eibar                                4\n",
       "Tottenham Hotspur                       4\n",
       "VfL Wolfsburg                           4\n",
       "FC Girondins de Bordeaux                4\n",
       "San Lorenzo de Almagro                  4\n",
       "Valencia CF                             4\n",
       "Querétaro                               4\n",
       "SC Freiburg                             4\n",
       "Unión Española                          3\n",
       "CD Leganés                              3\n",
       "En Avant de Guingamp                    3\n",
       "Beşiktaş JK                             3\n",
       "Independiente Medellín                  3\n",
       "Perugia                                 3\n",
       "FC Lorient                              3\n",
       "Sporting de Charleroi                   3\n",
       "Huddersfield Town                       3\n",
       "FC Augsburg                             3\n",
       "Benevento                               3\n",
       "Luton Town                              3\n",
       "Club Brugge KV                          3\n",
       "Fleetwood Town                          3\n",
       "Ajax                                    3\n",
       "1. FSV Mainz 05                         3\n",
       "Shrewsbury                              3\n",
       "FC Ingolstadt 04                        3\n",
       "Olympique Lyonnais                      3\n",
       "Heart of Midlothian                     3\n",
       "Córdoba CF                              3\n",
       "SV Darmstadt 98                         3\n",
       "Hamburger SV                            3\n",
       "OGC Nice                                3\n",
       "Club Atlas                              3\n",
       "KRC Genk                                3\n",
       "Jiangsu Suning FC                       3\n",
       "Argentinos Juniors                      3\n",
       "Angers SCO                              3\n",
       "Real Valladolid CF                      3\n",
       "Kashiwa Reysol                          3\n",
       "Jeonnam Dragons                         3\n",
       "Eintracht Frankfurt                     3\n",
       "TSG 1899 Hoffenheim                     3\n",
       "SV Werder Bremen                        3\n",
       "Milan                                   3\n",
       "FC Bayern München                       3\n",
       "Suwon Samsung Bluewings                 3\n",
       "FC Utrecht                              3\n",
       "Club Atlético Talleres                  3\n",
       "Standard de Liège                       2\n",
       "DSC Arminia Bielefeld                   2\n",
       "FC Nantes                               2\n",
       "Stade de Reims                          2\n",
       "Oxford United                           2\n",
       "Bristol Rovers                          2\n",
       "Club Atlético Colón                     2\n",
       "Olympique de Marseille                  2\n",
       "Extremadura UD                          2\n",
       "Granada CF                              2\n",
       "Deportivo Toluca                        2\n",
       "Coventry City                           2\n",
       "FC Nordsjælland                         2\n",
       "CD Everton de Viña del Mar              2\n",
       "FC København                            2\n",
       "Doncaster Rovers                        2\n",
       "SC Paderborn 07                         2\n",
       "Vélez Sarsfield                         2\n",
       "Estudiantes de La Plata                 2\n",
       "RC Celta                                2\n",
       "U.N.A.M.                                2\n",
       "FK Austria Wien                         2\n",
       "Al Fayha                                2\n",
       "Hertha BSC                              2\n",
       "Tianjin Quanjian FC                     2\n",
       "Cádiz CF                                2\n",
       "Kawasaki Frontale                       2\n",
       "Girona FC                               2\n",
       "Sunderland                              2\n",
       "RCD Espanyol                            2\n",
       "Sanfrecce Hiroshima                     2\n",
       "Bradford City                           2\n",
       "Shanghai Greenland Shenhua FC           2\n",
       "CD Universidad de Concepción            2\n",
       "FC Metz                                 2\n",
       "Peterborough United                     2\n",
       "Stade Malherbe Caen                     2\n",
       "Vissel Kobe                             2\n",
       "Beijing Sinobo Guoan FC                 2\n",
       "SD Huesca                               2\n",
       "Patriotas Boyacá FC                     2\n",
       "Melbourne City FC                       2\n",
       "Godoy Cruz                              2\n",
       "FC Schalke 04                           2\n",
       "Borussia Dortmund                       2\n",
       "Defensa y Justicia                      2\n",
       "Gimnàstic de Tarragona                  2\n",
       "Belgrano de Córdoba                     2\n",
       "Rosenborg BK                            2\n",
       "Unión de Santa Fe                       2\n",
       "Montpellier HSC                         2\n",
       "Barnsley                                2\n",
       "San Luis de Quillota                    2\n",
       "Parma                                   2\n",
       "Bolton Wanderers                        2\n",
       "Pohang Steelers                         2\n",
       "Gamba Osaka                             2\n",
       "1. FC Union Berlin                      2\n",
       "Tiburones Rojos de Veracruz             2\n",
       "Bury                                    2\n",
       "Monarcas Morelia                        2\n",
       "Blackpool                               2\n",
       "Urawa Red Diamonds                      1\n",
       "FC Sion                                 1\n",
       "Daegu FC                                1\n",
       "Sporting Lokeren                        1\n",
       "Henan Jianye FC                         1\n",
       "La Equidad                              1\n",
       "1. FC Köln                              1\n",
       "VfL Bochum 1848                         1\n",
       "Unión La Calera                         1\n",
       "Brescia                                 1\n",
       "Morecambe                               1\n",
       "FC Zürich                               1\n",
       "Hokkaido Consadole Sapporo              1\n",
       "Palermo                                 1\n",
       "AFC Wimbledon                           1\n",
       "Real Sociedad                           1\n",
       "América de Cali                         1\n",
       "KV Oostende                             1\n",
       "Os Belenenses                           1\n",
       "Cittadella                              1\n",
       "Patronato                               1\n",
       "Jeju United FC                          1\n",
       "Real Sporting de Gijón                  1\n",
       "Independiente Santa Fe                  1\n",
       "Puebla FC                               1\n",
       "Vitória Guimarães                       1\n",
       "Accrington Stanley                      1\n",
       "Forest Green Rovers                     1\n",
       "Stevenage                               1\n",
       "Spezia                                  1\n",
       "Shanghai SIPG FC                        1\n",
       "FC Seoul                                1\n",
       "Strømsgodset IF                         1\n",
       "Toronto FC                              1\n",
       "CD O'Higgins                            1\n",
       "Rionegro Águilas                        1\n",
       "SV Zulte-Waregem                        1\n",
       "FC St. Pauli                            1\n",
       "FC Tokyo                                1\n",
       "Portsmouth                              1\n",
       "Guizhou Hengfeng FC                     1\n",
       "SK Sturm Graz                           1\n",
       "Club Necaxa                             1\n",
       "RB Leipzig                              1\n",
       "Oldham Athletic                         1\n",
       "CD Tenerife                             1\n",
       "Gimnasia y Esgrima La Plata             1\n",
       "ADO Den Haag                            1\n",
       "Lechia Gdańsk                           1\n",
       "Gangwon FC                              1\n",
       "Sheffield Wednesday                     1\n",
       "IK Start                                1\n",
       "Bursaspor                               1\n",
       "SV Sandhausen                           1\n",
       "AS Nancy Lorraine                       1\n",
       "Rayo Vallecano                          1\n",
       "Walsall                                 1\n",
       "Crawley Town                            1\n",
       "Club Atlético Tigre                     1\n",
       "CD Antofagasta                          1\n",
       "Royal Excel Mouscron                    1\n",
       "Itagüí Leones FC                        1\n",
       "Seattle Sounders FC                     1\n",
       "Fortuna Düsseldorf                      1\n",
       "Al Ittihad                              1\n",
       "Club Deportes Temuco                    1\n",
       "PEC Zwolle                              1\n",
       "Amiens SC                               1\n",
       "Ettifaq FC                              1\n",
       "US Salernitana 1919                     1\n",
       "SG Dynamo Dresden                       1\n",
       "Portland Timbers                        1\n",
       "Yokohama F. Marinos                     1\n",
       "Club Atlético Lanús                     1\n",
       "Vålerenga Fotball                       1\n",
       "Östersunds FK                           1\n",
       "Malmö FF                                1\n",
       "Neuchâtel Xamax                         1\n",
       "Pescara                                 1\n",
       "Alianza Petrolera                       1\n",
       "Club Atlético Banfield                  1\n",
       "Aberdeen                                1\n",
       "Bahia                                   1\n",
       "Dijon FCO                               1\n",
       "Kalmar FF                               1\n",
       "AJ Auxerre                              1\n",
       "CD Palestino                            1\n",
       "Santos Laguna                           1\n",
       "Port Vale                               1\n",
       "La Berrichonne de Châteauroux           1\n",
       "CA Osasuna                              1\n",
       "Junior FC                               1\n",
       "RC Strasbourg Alsace                    1\n",
       "Celtic                                  1\n",
       "SSV Jahn Regensburg                     1\n",
       "Kayserispor                             1\n",
       "Chongqing Dangdai Lifan FC SWM Team     1\n",
       "Al Fateh                                1\n",
       "Northampton Town                        1\n",
       "Al Qadisiyah                            1\n",
       "Eintracht Braunschweig                  1\n",
       "CD Lugo                                 1\n",
       "Fenerbahçe SK                           1\n",
       "Club Atlético Huracán                   1\n",
       "New York Red Bulls                      1\n",
       "RCD Mallorca                            1\n",
       "Club León                               1\n",
       "FC Basel 1893                           1\n",
       "Frosinone                               1\n",
       "Fortuna Sittard                         1\n",
       "LASK Linz                               1\n",
       "Scunthorpe United                       1\n",
       "Heracles Almelo                         1\n",
       "Bayer 04 Leverkusen                     1\n",
       "Central Coast Mariners                  1\n",
       "Name: Loaned From, dtype: int64"
      ]
     },
     "execution_count": 326,
     "metadata": {},
     "output_type": "execute_result"
    }
   ],
   "source": [
    "df['Loaned From'].value_counts()"
   ]
  },
  {
   "cell_type": "markdown",
   "metadata": {},
   "source": [
    "## Filling 'Loaned From' , 'Joined' and 'Jersey Number' with relatable values"
   ]
  },
  {
   "cell_type": "code",
   "execution_count": 327,
   "metadata": {},
   "outputs": [],
   "source": [
    "df['Loaned From'].fillna('None', inplace = True)\n",
    "df['Joined'].fillna('Jul 1, 2018', inplace = True)\n",
    "df['Jersey Number'].fillna(8, inplace = True)"
   ]
  },
  {
   "cell_type": "code",
   "execution_count": 328,
   "metadata": {},
   "outputs": [
    {
     "data": {
      "text/plain": [
       "Unnamed: 0                     0\n",
       "ID                             0\n",
       "Name                           0\n",
       "Age                            0\n",
       "Photo                          0\n",
       "Nationality                    0\n",
       "Flag                           0\n",
       "Overall                        0\n",
       "Potential                      0\n",
       "Club                           0\n",
       "Club Logo                      0\n",
       "Value                          0\n",
       "Wage                           0\n",
       "Special                        0\n",
       "Preferred Foot                48\n",
       "International Reputation      48\n",
       "Weak Foot                     48\n",
       "Skill Moves                   48\n",
       "Work Rate                     48\n",
       "Body Type                     48\n",
       "Real Face                     48\n",
       "Position                      60\n",
       "Jersey Number                  0\n",
       "Joined                         0\n",
       "Loaned From                    0\n",
       "Contract Valid Until           0\n",
       "Height                         0\n",
       "Weight                         0\n",
       "LS                          2085\n",
       "ST                          2085\n",
       "RS                          2085\n",
       "LW                          2085\n",
       "LF                          2085\n",
       "CF                          2085\n",
       "RF                          2085\n",
       "RW                          2085\n",
       "LAM                         2085\n",
       "CAM                         2085\n",
       "RAM                         2085\n",
       "LM                          2085\n",
       "LCM                         2085\n",
       "CM                          2085\n",
       "RCM                         2085\n",
       "RM                          2085\n",
       "LWB                         2085\n",
       "LDM                         2085\n",
       "CDM                         2085\n",
       "RDM                         2085\n",
       "RWB                         2085\n",
       "LB                          2085\n",
       "LCB                         2085\n",
       "CB                          2085\n",
       "RCB                         2085\n",
       "RB                          2085\n",
       "Crossing                       0\n",
       "Finishing                      0\n",
       "HeadingAccuracy                0\n",
       "ShortPassing                   0\n",
       "Volleys                        0\n",
       "Dribbling                      0\n",
       "Curve                          0\n",
       "FKAccuracy                     0\n",
       "LongPassing                    0\n",
       "BallControl                    0\n",
       "Acceleration                   0\n",
       "SprintSpeed                    0\n",
       "Agility                        0\n",
       "Reactions                      0\n",
       "Balance                        0\n",
       "ShotPower                      0\n",
       "Jumping                        0\n",
       "Stamina                        0\n",
       "Strength                       0\n",
       "LongShots                      0\n",
       "Aggression                     0\n",
       "Interceptions                  0\n",
       "Positioning                    0\n",
       "Vision                         0\n",
       "Penalties                      0\n",
       "Composure                      0\n",
       "Marking                        0\n",
       "StandingTackle                 0\n",
       "SlidingTackle                  0\n",
       "GKDiving                       0\n",
       "GKHandling                     0\n",
       "GKKicking                      0\n",
       "GKPositioning                  0\n",
       "GKReflexes                     0\n",
       "Release Clause              1564\n",
       "dtype: int64"
      ]
     },
     "execution_count": 328,
     "metadata": {},
     "output_type": "execute_result"
    }
   ],
   "source": [
    "df.isnull().sum()"
   ]
  },
  {
   "cell_type": "markdown",
   "metadata": {},
   "source": [
    "## Filling 'Preferred Foot' with 'Right'"
   ]
  },
  {
   "cell_type": "code",
   "execution_count": 329,
   "metadata": {},
   "outputs": [
    {
     "data": {
      "text/plain": [
       "Right    13948\n",
       "Left      4211\n",
       "Name: Preferred Foot, dtype: int64"
      ]
     },
     "execution_count": 329,
     "metadata": {},
     "output_type": "execute_result"
    }
   ],
   "source": [
    "df['Preferred Foot'].value_counts()"
   ]
  },
  {
   "cell_type": "code",
   "execution_count": 330,
   "metadata": {},
   "outputs": [],
   "source": [
    "df['Preferred Foot'].fillna('Right', inplace = True)"
   ]
  },
  {
   "cell_type": "markdown",
   "metadata": {},
   "source": [
    "## Filling 'International Reputation' with its mode"
   ]
  },
  {
   "cell_type": "code",
   "execution_count": 331,
   "metadata": {},
   "outputs": [
    {
     "data": {
      "text/plain": [
       "1.0    16532\n",
       "2.0     1261\n",
       "3.0      309\n",
       "4.0       51\n",
       "5.0        6\n",
       "Name: International Reputation, dtype: int64"
      ]
     },
     "execution_count": 331,
     "metadata": {},
     "output_type": "execute_result"
    }
   ],
   "source": [
    "df['International Reputation'].value_counts()"
   ]
  },
  {
   "cell_type": "code",
   "execution_count": 332,
   "metadata": {},
   "outputs": [],
   "source": [
    "df['International Reputation'].fillna(1.0, inplace = True)"
   ]
  },
  {
   "cell_type": "markdown",
   "metadata": {},
   "source": [
    "## Filling 'Weak Foot' with its median"
   ]
  },
  {
   "cell_type": "code",
   "execution_count": 333,
   "metadata": {},
   "outputs": [
    {
     "data": {
      "text/plain": [
       "3.0    11349\n",
       "2.0     3761\n",
       "4.0     2662\n",
       "5.0      229\n",
       "1.0      158\n",
       "Name: Weak Foot, dtype: int64"
      ]
     },
     "execution_count": 333,
     "metadata": {},
     "output_type": "execute_result"
    }
   ],
   "source": [
    "df['Weak Foot'].value_counts()"
   ]
  },
  {
   "cell_type": "code",
   "execution_count": 334,
   "metadata": {},
   "outputs": [],
   "source": [
    "df['Weak Foot'].fillna(df['Weak Foot'].median(), inplace = True)"
   ]
  },
  {
   "cell_type": "markdown",
   "metadata": {},
   "source": [
    "## Filling 'Skill Moves' with its median"
   ]
  },
  {
   "cell_type": "code",
   "execution_count": 335,
   "metadata": {},
   "outputs": [
    {
     "data": {
      "text/plain": [
       "2.0    8565\n",
       "3.0    6600\n",
       "1.0    2026\n",
       "4.0     917\n",
       "5.0      51\n",
       "Name: Skill Moves, dtype: int64"
      ]
     },
     "execution_count": 335,
     "metadata": {},
     "output_type": "execute_result"
    }
   ],
   "source": [
    "df['Skill Moves'].value_counts()"
   ]
  },
  {
   "cell_type": "code",
   "execution_count": 336,
   "metadata": {},
   "outputs": [],
   "source": [
    "df['Skill Moves'].fillna(df['Skill Moves'].median(), inplace = True)"
   ]
  },
  {
   "cell_type": "code",
   "execution_count": 337,
   "metadata": {},
   "outputs": [
    {
     "data": {
      "text/plain": [
       "Medium/ Medium    9810\n",
       "High/ Medium      3173\n",
       "Medium/ High      1690\n",
       "High/ High        1015\n",
       "Medium/ Low        850\n",
       "High/ Low          699\n",
       "Low/ Medium        449\n",
       "Low/ High          439\n",
       "Low/ Low            34\n",
       "Name: Work Rate, dtype: int64"
      ]
     },
     "execution_count": 337,
     "metadata": {},
     "output_type": "execute_result"
    }
   ],
   "source": [
    "df['Work Rate'].value_counts()"
   ]
  },
  {
   "cell_type": "markdown",
   "metadata": {},
   "source": [
    "## Filling 'Work Rate' with its 'Medium/ Medium'"
   ]
  },
  {
   "cell_type": "code",
   "execution_count": 338,
   "metadata": {},
   "outputs": [],
   "source": [
    "df['Work Rate'].fillna('Medium/ Medium', inplace = True)"
   ]
  },
  {
   "cell_type": "markdown",
   "metadata": {},
   "source": [
    "## Filling 'Body Type' with appropriate values"
   ]
  },
  {
   "cell_type": "code",
   "execution_count": 339,
   "metadata": {},
   "outputs": [
    {
     "data": {
      "text/plain": [
       "Normal                 10595\n",
       "Lean                    6417\n",
       "Stocky                  1140\n",
       "Akinfenwa                  1\n",
       "Courtois                   1\n",
       "Neymar                     1\n",
       "C. Ronaldo                 1\n",
       "Messi                      1\n",
       "PLAYER_BODY_TYPE_25        1\n",
       "Shaqiri                    1\n",
       "Name: Body Type, dtype: int64"
      ]
     },
     "execution_count": 339,
     "metadata": {},
     "output_type": "execute_result"
    }
   ],
   "source": [
    "df['Body Type'].value_counts()"
   ]
  },
  {
   "cell_type": "code",
   "execution_count": 340,
   "metadata": {},
   "outputs": [],
   "source": [
    "df['Body Type'].fillna('Normal', inplace = True)\n",
    "for i in ['Messi','C. Ronaldo','Courtois','PLAYER_BODY_TYPE_25','Shaqiri','Neymar','Akinfenwa']:\n",
    "    df['Body Type'].replace(i, 'Stocky', inplace = True)"
   ]
  },
  {
   "cell_type": "markdown",
   "metadata": {},
   "source": [
    "## Filling position with 'ST'"
   ]
  },
  {
   "cell_type": "code",
   "execution_count": 341,
   "metadata": {},
   "outputs": [
    {
     "data": {
      "text/plain": [
       "ST     2152\n",
       "GK     2025\n",
       "CB     1778\n",
       "CM     1394\n",
       "LB     1322\n",
       "RB     1291\n",
       "RM     1124\n",
       "LM     1095\n",
       "CAM     958\n",
       "CDM     948\n",
       "RCB     662\n",
       "LCB     648\n",
       "LCM     395\n",
       "RCM     391\n",
       "LW      381\n",
       "RW      370\n",
       "RDM     248\n",
       "LDM     243\n",
       "LS      207\n",
       "RS      203\n",
       "RWB      87\n",
       "LWB      78\n",
       "CF       74\n",
       "RAM      21\n",
       "LAM      21\n",
       "RF       16\n",
       "LF       15\n",
       "Name: Position, dtype: int64"
      ]
     },
     "execution_count": 341,
     "metadata": {},
     "output_type": "execute_result"
    }
   ],
   "source": [
    "df['Position'].value_counts()"
   ]
  },
  {
   "cell_type": "code",
   "execution_count": 342,
   "metadata": {},
   "outputs": [],
   "source": [
    "df['Position'].fillna('ST', inplace = True)"
   ]
  },
  {
   "cell_type": "code",
   "execution_count": 343,
   "metadata": {},
   "outputs": [
    {
     "data": {
      "text/plain": [
       "Unnamed: 0                     0\n",
       "ID                             0\n",
       "Name                           0\n",
       "Age                            0\n",
       "Photo                          0\n",
       "Nationality                    0\n",
       "Flag                           0\n",
       "Overall                        0\n",
       "Potential                      0\n",
       "Club                           0\n",
       "Club Logo                      0\n",
       "Value                          0\n",
       "Wage                           0\n",
       "Special                        0\n",
       "Preferred Foot                 0\n",
       "International Reputation       0\n",
       "Weak Foot                      0\n",
       "Skill Moves                    0\n",
       "Work Rate                      0\n",
       "Body Type                      0\n",
       "Real Face                     48\n",
       "Position                       0\n",
       "Jersey Number                  0\n",
       "Joined                         0\n",
       "Loaned From                    0\n",
       "Contract Valid Until           0\n",
       "Height                         0\n",
       "Weight                         0\n",
       "LS                          2085\n",
       "ST                          2085\n",
       "RS                          2085\n",
       "LW                          2085\n",
       "LF                          2085\n",
       "CF                          2085\n",
       "RF                          2085\n",
       "RW                          2085\n",
       "LAM                         2085\n",
       "CAM                         2085\n",
       "RAM                         2085\n",
       "LM                          2085\n",
       "LCM                         2085\n",
       "CM                          2085\n",
       "RCM                         2085\n",
       "RM                          2085\n",
       "LWB                         2085\n",
       "LDM                         2085\n",
       "CDM                         2085\n",
       "RDM                         2085\n",
       "RWB                         2085\n",
       "LB                          2085\n",
       "LCB                         2085\n",
       "CB                          2085\n",
       "RCB                         2085\n",
       "RB                          2085\n",
       "Crossing                       0\n",
       "Finishing                      0\n",
       "HeadingAccuracy                0\n",
       "ShortPassing                   0\n",
       "Volleys                        0\n",
       "Dribbling                      0\n",
       "Curve                          0\n",
       "FKAccuracy                     0\n",
       "LongPassing                    0\n",
       "BallControl                    0\n",
       "Acceleration                   0\n",
       "SprintSpeed                    0\n",
       "Agility                        0\n",
       "Reactions                      0\n",
       "Balance                        0\n",
       "ShotPower                      0\n",
       "Jumping                        0\n",
       "Stamina                        0\n",
       "Strength                       0\n",
       "LongShots                      0\n",
       "Aggression                     0\n",
       "Interceptions                  0\n",
       "Positioning                    0\n",
       "Vision                         0\n",
       "Penalties                      0\n",
       "Composure                      0\n",
       "Marking                        0\n",
       "StandingTackle                 0\n",
       "SlidingTackle                  0\n",
       "GKDiving                       0\n",
       "GKHandling                     0\n",
       "GKKicking                      0\n",
       "GKPositioning                  0\n",
       "GKReflexes                     0\n",
       "Release Clause              1564\n",
       "dtype: int64"
      ]
     },
     "execution_count": 343,
     "metadata": {},
     "output_type": "execute_result"
    }
   ],
   "source": [
    "df.isnull().sum()"
   ]
  },
  {
   "cell_type": "markdown",
   "metadata": {},
   "source": [
    "## What is the distribution of players with position?"
   ]
  },
  {
   "cell_type": "code",
   "execution_count": 344,
   "metadata": {},
   "outputs": [
    {
     "data": {
      "image/png": "[encoded data removed]",
      "text/plain": [
       "<Figure size 864x576 with 1 Axes>"
      ]
     },
     "metadata": {},
     "output_type": "display_data"
    }
   ],
   "source": [
    "plt.figure(figsize = (12, 8))\n",
    "sns.set(style = 'dark', palette = 'colorblind', color_codes = True)\n",
    "ax = sns.countplot('Position', data = df, color = 'orange')\n",
    "ax.set_xlabel(xlabel = 'Different Positions in Football', fontsize = 16)\n",
    "ax.set_ylabel(ylabel = 'Count of Players', fontsize = 16)\n",
    "ax.set_title(label = 'Comparison of Positions and Players', fontsize = 20)\n",
    "plt.show()\n"
   ]
  },
  {
   "cell_type": "markdown",
   "metadata": {},
   "source": [
    "## What is the distribution of players based on nationality?"
   ]
  },
  {
   "cell_type": "code",
   "execution_count": 345,
   "metadata": {},
   "outputs": [
    {
     "data": {
      "image/png": "[encoded data removed]",
      "text/plain": [
       "<Figure size 2520x1080 with 1 Axes>"
      ]
     },
     "metadata": {},
     "output_type": "display_data"
    }
   ],
   "source": [
    "df['Nationality'].value_counts().plot.bar(color = 'orange', figsize = (35, 15 ))\n",
    "plt.title('Different Nations Participating in FIFA 2019')\n",
    "plt.xlabel('Name of The Country')\n",
    "plt.ylabel('count')\n",
    "plt.show()"
   ]
  },
  {
   "cell_type": "markdown",
   "metadata": {},
   "source": [
    "## What are the best player in different positions?"
   ]
  },
  {
   "cell_type": "code",
   "execution_count": 346,
   "metadata": {},
   "outputs": [
    {
     "data": {
      "text/html": [
       "<div>\n",
       "<style scoped>\n",
       "    .dataframe tbody tr th:only-of-type {\n",
       "        vertical-align: middle;\n",
       "    }\n",
       "\n",
       "    .dataframe tbody tr th {\n",
       "        vertical-align: top;\n",
       "    }\n",
       "\n",
       "    .dataframe thead th {\n",
       "        text-align: right;\n",
       "    }\n",
       "</style>\n",
       "<table border=\"1\" class=\"dataframe\">\n",
       "  <thead>\n",
       "    <tr style=\"text-align: right;\">\n",
       "      <th></th>\n",
       "      <th>Position</th>\n",
       "      <th>Player Name</th>\n",
       "    </tr>\n",
       "  </thead>\n",
       "  <tbody>\n",
       "    <tr>\n",
       "      <th>0</th>\n",
       "      <td>RF</td>\n",
       "      <td>L. Messi</td>\n",
       "    </tr>\n",
       "    <tr>\n",
       "      <th>1</th>\n",
       "      <td>ST</td>\n",
       "      <td>Cristiano Ronaldo</td>\n",
       "    </tr>\n",
       "    <tr>\n",
       "      <th>2</th>\n",
       "      <td>LW</td>\n",
       "      <td>Neymar Jr</td>\n",
       "    </tr>\n",
       "    <tr>\n",
       "      <th>3</th>\n",
       "      <td>GK</td>\n",
       "      <td>De Gea</td>\n",
       "    </tr>\n",
       "    <tr>\n",
       "      <th>4</th>\n",
       "      <td>RCM</td>\n",
       "      <td>K. De Bruyne</td>\n",
       "    </tr>\n",
       "    <tr>\n",
       "      <th>5</th>\n",
       "      <td>LF</td>\n",
       "      <td>E. Hazard</td>\n",
       "    </tr>\n",
       "    <tr>\n",
       "      <th>6</th>\n",
       "      <td>RS</td>\n",
       "      <td>L. Suárez</td>\n",
       "    </tr>\n",
       "    <tr>\n",
       "      <th>7</th>\n",
       "      <td>RCB</td>\n",
       "      <td>Sergio Ramos</td>\n",
       "    </tr>\n",
       "    <tr>\n",
       "      <th>8</th>\n",
       "      <td>LCM</td>\n",
       "      <td>T. Kroos</td>\n",
       "    </tr>\n",
       "    <tr>\n",
       "      <th>9</th>\n",
       "      <td>CB</td>\n",
       "      <td>D. Godín</td>\n",
       "    </tr>\n",
       "    <tr>\n",
       "      <th>10</th>\n",
       "      <td>LDM</td>\n",
       "      <td>N. Kanté</td>\n",
       "    </tr>\n",
       "    <tr>\n",
       "      <th>11</th>\n",
       "      <td>CAM</td>\n",
       "      <td>A. Griezmann</td>\n",
       "    </tr>\n",
       "    <tr>\n",
       "      <th>12</th>\n",
       "      <td>CDM</td>\n",
       "      <td>Sergio Busquets</td>\n",
       "    </tr>\n",
       "    <tr>\n",
       "      <th>13</th>\n",
       "      <td>LS</td>\n",
       "      <td>E. Cavani</td>\n",
       "    </tr>\n",
       "    <tr>\n",
       "      <th>14</th>\n",
       "      <td>LCB</td>\n",
       "      <td>G. Chiellini</td>\n",
       "    </tr>\n",
       "    <tr>\n",
       "      <th>15</th>\n",
       "      <td>RM</td>\n",
       "      <td>K. Mbappé</td>\n",
       "    </tr>\n",
       "    <tr>\n",
       "      <th>16</th>\n",
       "      <td>LAM</td>\n",
       "      <td>J. Rodríguez</td>\n",
       "    </tr>\n",
       "    <tr>\n",
       "      <th>17</th>\n",
       "      <td>LM</td>\n",
       "      <td>P. Aubameyang</td>\n",
       "    </tr>\n",
       "    <tr>\n",
       "      <th>18</th>\n",
       "      <td>LB</td>\n",
       "      <td>Marcelo</td>\n",
       "    </tr>\n",
       "    <tr>\n",
       "      <th>19</th>\n",
       "      <td>RDM</td>\n",
       "      <td>P. Pogba</td>\n",
       "    </tr>\n",
       "    <tr>\n",
       "      <th>20</th>\n",
       "      <td>RW</td>\n",
       "      <td>Bernardo Silva</td>\n",
       "    </tr>\n",
       "    <tr>\n",
       "      <th>21</th>\n",
       "      <td>CM</td>\n",
       "      <td>Thiago</td>\n",
       "    </tr>\n",
       "    <tr>\n",
       "      <th>22</th>\n",
       "      <td>RB</td>\n",
       "      <td>Azpilicueta</td>\n",
       "    </tr>\n",
       "    <tr>\n",
       "      <th>23</th>\n",
       "      <td>RAM</td>\n",
       "      <td>J. Cuadrado</td>\n",
       "    </tr>\n",
       "    <tr>\n",
       "      <th>24</th>\n",
       "      <td>CF</td>\n",
       "      <td>Luis Alberto</td>\n",
       "    </tr>\n",
       "    <tr>\n",
       "      <th>25</th>\n",
       "      <td>RWB</td>\n",
       "      <td>M. Ginter</td>\n",
       "    </tr>\n",
       "    <tr>\n",
       "      <th>26</th>\n",
       "      <td>LWB</td>\n",
       "      <td>N. Schulz</td>\n",
       "    </tr>\n",
       "  </tbody>\n",
       "</table>\n",
       "</div>"
      ],
      "text/plain": [
       "   Position        Player Name\n",
       "0        RF           L. Messi\n",
       "1        ST  Cristiano Ronaldo\n",
       "2        LW          Neymar Jr\n",
       "3        GK             De Gea\n",
       "4       RCM       K. De Bruyne\n",
       "5        LF          E. Hazard\n",
       "6        RS          L. Suárez\n",
       "7       RCB       Sergio Ramos\n",
       "8       LCM           T. Kroos\n",
       "9        CB           D. Godín\n",
       "10      LDM           N. Kanté\n",
       "11      CAM       A. Griezmann\n",
       "12      CDM    Sergio Busquets\n",
       "13       LS          E. Cavani\n",
       "14      LCB       G. Chiellini\n",
       "15       RM          K. Mbappé\n",
       "16      LAM       J. Rodríguez\n",
       "17       LM      P. Aubameyang\n",
       "18       LB            Marcelo\n",
       "19      RDM           P. Pogba\n",
       "20       RW     Bernardo Silva\n",
       "21       CM             Thiago\n",
       "22       RB        Azpilicueta\n",
       "23      RAM        J. Cuadrado\n",
       "24       CF       Luis Alberto\n",
       "25      RWB          M. Ginter\n",
       "26      LWB          N. Schulz"
      ]
     },
     "execution_count": 346,
     "metadata": {},
     "output_type": "execute_result"
    }
   ],
   "source": [
    "positions = df['Position'].unique().tolist()\n",
    "player = []\n",
    "for i in positions:\n",
    "    temp = df[ df['Position'] == i ]\n",
    "    datapoint = temp[temp['Overall'] == temp['Overall'].max()]\n",
    "    player.append(datapoint._get_value(datapoint.index[0],'Name'))\n",
    "    \n",
    "dataframe = pd.DataFrame({'Position':pd.Series(positions),\n",
    "             'Player Name':pd.Series(player)})\n",
    "dataframe"
   ]
  },
  {
   "cell_type": "markdown",
   "metadata": {},
   "source": [
    "## What is comparision between Left and Right Foot?"
   ]
  },
  {
   "cell_type": "code",
   "execution_count": 347,
   "metadata": {},
   "outputs": [
    {
     "data": {
      "image/png": "[encoded data removed]",
      "text/plain": [
       "<Figure size 864x576 with 1 Axes>"
      ]
     },
     "metadata": {},
     "output_type": "display_data"
    }
   ],
   "source": [
    "plt.figure(figsize = (12, 8))\n",
    "sns.set(style = 'dark', palette = 'colorblind', color_codes = True)\n",
    "ax = sns.countplot('Preferred Foot', data = df, color = 'orange')\n",
    "ax.set_xlabel(xlabel = 'Foot Preferance in Football', fontsize = 16)\n",
    "ax.set_ylabel(ylabel = 'Count of Players', fontsize = 16)\n",
    "ax.set_title(label = 'Comparison of Preferred Foot and Players', fontsize = 20)\n",
    "plt.show()"
   ]
  },
  {
   "cell_type": "markdown",
   "metadata": {},
   "source": [
    "## What is the distribution of Wage?"
   ]
  },
  {
   "cell_type": "code",
   "execution_count": 348,
   "metadata": {},
   "outputs": [
    {
     "name": "stderr",
     "output_type": "stream",
     "text": [
      "<ipython-input-348-a3755d6de979>:2: SettingWithCopyWarning: \n",
      "A value is trying to be set on a copy of a slice from a DataFrame\n",
      "\n",
      "See the caveats in the documentation: https://pandas.pydata.org/pandas-docs/stable/user_guide/indexing.html#returning-a-view-versus-a-copy\n",
      "  df['Wage'][ind] = df['Wage'][ind][1:]\n",
      "<ipython-input-348-a3755d6de979>:6: SettingWithCopyWarning: \n",
      "A value is trying to be set on a copy of a slice from a DataFrame\n",
      "\n",
      "See the caveats in the documentation: https://pandas.pydata.org/pandas-docs/stable/user_guide/indexing.html#returning-a-view-versus-a-copy\n",
      "  df['Wage'][ind] = float(df['Wage'][ind].replace(\"K\",\"\"))*1000\n"
     ]
    }
   ],
   "source": [
    "for ind in df.index:\n",
    "    df['Wage'][ind] = df['Wage'][ind][1:]\n",
    "    if df['Wage'][ind][len(df['Wage'][ind])-1] == \"M\":\n",
    "        df['Wage'][ind] = float(df['Wage'][ind].replace(\"M\",\"\"))*1000000\n",
    "    elif df['Wage'][ind][len(df['Wage'][ind])-1] == \"K\":\n",
    "        df['Wage'][ind] = float(df['Wage'][ind].replace(\"K\",\"\"))*1000\n",
    "    else:\n",
    "        continue"
   ]
  },
  {
   "cell_type": "code",
   "execution_count": 349,
   "metadata": {},
   "outputs": [
    {
     "data": {
      "text/plain": [
       "0    565000\n",
       "1    405000\n",
       "2    290000\n",
       "3    260000\n",
       "4    355000\n",
       "Name: Wage, dtype: object"
      ]
     },
     "execution_count": 349,
     "metadata": {},
     "output_type": "execute_result"
    }
   ],
   "source": [
    "df['Wage'].head()"
   ]
  },
  {
   "cell_type": "code",
   "execution_count": 350,
   "metadata": {},
   "outputs": [
    {
     "data": {
      "image/png": "[encoded data removed]",
      "text/plain": [
       "<Figure size 5400x288 with 1 Axes>"
      ]
     },
     "metadata": {},
     "output_type": "display_data"
    }
   ],
   "source": [
    "sns.set(style = 'dark', palette = 'bright', color_codes = True)\n",
    "plt.figure(figsize = (75, 4))\n",
    "x = df.Wage\n",
    "sns.countplot(x, data = df, color = 'y')\n",
    "plt.xlabel('Wage Range for Players', fontsize = 16)\n",
    "plt.ylabel('Count of the Players', fontsize = 16)\n",
    "plt.title('Comparing the wages of players', fontsize = 20)\n",
    "plt.show()"
   ]
  },
  {
   "cell_type": "markdown",
   "metadata": {},
   "source": [
    "## What is the average overall rating of player?"
   ]
  },
  {
   "cell_type": "code",
   "execution_count": 351,
   "metadata": {},
   "outputs": [
    {
     "data": {
      "text/plain": [
       "66.23869940132916"
      ]
     },
     "execution_count": 351,
     "metadata": {},
     "output_type": "execute_result"
    }
   ],
   "source": [
    "df['Overall'].mean()"
   ]
  },
  {
   "cell_type": "markdown",
   "metadata": {},
   "source": [
    "## What is the comparision between overall rating and player?"
   ]
  },
  {
   "cell_type": "code",
   "execution_count": 352,
   "metadata": {},
   "outputs": [
    {
     "data": {
      "image/png": "[encoded data removed]",
      "text/plain": [
       "<Figure size 864x576 with 1 Axes>"
      ]
     },
     "metadata": {},
     "output_type": "display_data"
    }
   ],
   "source": [
    "plt.figure(figsize = (12, 8))\n",
    "sns.set(style = 'dark', palette = 'colorblind', color_codes = True)\n",
    "ax = sns.countplot('Overall', data = df, color = 'orange')\n",
    "ax.set_xlabel(xlabel = 'Overall Rating Of Players', fontsize = 16)\n",
    "ax.set_ylabel(ylabel = 'Count of Players', fontsize = 16)\n",
    "ax.set_title(label = 'Comparison of Overall Rating and Players', fontsize = 20)\n",
    "plt.show()\n"
   ]
  },
  {
   "cell_type": "markdown",
   "metadata": {},
   "source": [
    "## Who are the top 10 player based on overall rating?"
   ]
  },
  {
   "cell_type": "code",
   "execution_count": 353,
   "metadata": {},
   "outputs": [],
   "source": [
    "top = df.sort_values(by =  'Overall',ascending = False,inplace = False)"
   ]
  },
  {
   "cell_type": "code",
   "execution_count": 354,
   "metadata": {},
   "outputs": [
    {
     "data": {
      "text/html": [
       "<div>\n",
       "<style scoped>\n",
       "    .dataframe tbody tr th:only-of-type {\n",
       "        vertical-align: middle;\n",
       "    }\n",
       "\n",
       "    .dataframe tbody tr th {\n",
       "        vertical-align: top;\n",
       "    }\n",
       "\n",
       "    .dataframe thead th {\n",
       "        text-align: right;\n",
       "    }\n",
       "</style>\n",
       "<table border=\"1\" class=\"dataframe\">\n",
       "  <thead>\n",
       "    <tr style=\"text-align: right;\">\n",
       "      <th></th>\n",
       "      <th>Name</th>\n",
       "      <th>Overall</th>\n",
       "    </tr>\n",
       "  </thead>\n",
       "  <tbody>\n",
       "    <tr>\n",
       "      <th>0</th>\n",
       "      <td>L. Messi</td>\n",
       "      <td>94</td>\n",
       "    </tr>\n",
       "    <tr>\n",
       "      <th>1</th>\n",
       "      <td>Cristiano Ronaldo</td>\n",
       "      <td>94</td>\n",
       "    </tr>\n",
       "    <tr>\n",
       "      <th>2</th>\n",
       "      <td>Neymar Jr</td>\n",
       "      <td>92</td>\n",
       "    </tr>\n",
       "    <tr>\n",
       "      <th>3</th>\n",
       "      <td>De Gea</td>\n",
       "      <td>91</td>\n",
       "    </tr>\n",
       "    <tr>\n",
       "      <th>4</th>\n",
       "      <td>K. De Bruyne</td>\n",
       "      <td>91</td>\n",
       "    </tr>\n",
       "    <tr>\n",
       "      <th>5</th>\n",
       "      <td>E. Hazard</td>\n",
       "      <td>91</td>\n",
       "    </tr>\n",
       "    <tr>\n",
       "      <th>6</th>\n",
       "      <td>L. Modrić</td>\n",
       "      <td>91</td>\n",
       "    </tr>\n",
       "    <tr>\n",
       "      <th>7</th>\n",
       "      <td>L. Suárez</td>\n",
       "      <td>91</td>\n",
       "    </tr>\n",
       "    <tr>\n",
       "      <th>8</th>\n",
       "      <td>Sergio Ramos</td>\n",
       "      <td>91</td>\n",
       "    </tr>\n",
       "    <tr>\n",
       "      <th>12</th>\n",
       "      <td>D. Godín</td>\n",
       "      <td>90</td>\n",
       "    </tr>\n",
       "  </tbody>\n",
       "</table>\n",
       "</div>"
      ],
      "text/plain": [
       "                 Name  Overall\n",
       "0            L. Messi       94\n",
       "1   Cristiano Ronaldo       94\n",
       "2           Neymar Jr       92\n",
       "3              De Gea       91\n",
       "4        K. De Bruyne       91\n",
       "5           E. Hazard       91\n",
       "6           L. Modrić       91\n",
       "7           L. Suárez       91\n",
       "8        Sergio Ramos       91\n",
       "12           D. Godín       90"
      ]
     },
     "execution_count": 354,
     "metadata": {},
     "output_type": "execute_result"
    }
   ],
   "source": [
    "top = top.iloc[:10]\n",
    "top = top[['Name','Overall']]\n",
    "top"
   ]
  },
  {
   "cell_type": "markdown",
   "metadata": {},
   "source": [
    "## Who are the top 10 player based on potential?"
   ]
  },
  {
   "cell_type": "code",
   "execution_count": 357,
   "metadata": {},
   "outputs": [
    {
     "data": {
      "text/html": [
       "<div>\n",
       "<style scoped>\n",
       "    .dataframe tbody tr th:only-of-type {\n",
       "        vertical-align: middle;\n",
       "    }\n",
       "\n",
       "    .dataframe tbody tr th {\n",
       "        vertical-align: top;\n",
       "    }\n",
       "\n",
       "    .dataframe thead th {\n",
       "        text-align: right;\n",
       "    }\n",
       "</style>\n",
       "<table border=\"1\" class=\"dataframe\">\n",
       "  <thead>\n",
       "    <tr style=\"text-align: right;\">\n",
       "      <th></th>\n",
       "      <th>Name</th>\n",
       "      <th>Potential</th>\n",
       "    </tr>\n",
       "  </thead>\n",
       "  <tbody>\n",
       "    <tr>\n",
       "      <th>25</th>\n",
       "      <td>K. Mbappé</td>\n",
       "      <td>95</td>\n",
       "    </tr>\n",
       "    <tr>\n",
       "      <th>0</th>\n",
       "      <td>L. Messi</td>\n",
       "      <td>94</td>\n",
       "    </tr>\n",
       "    <tr>\n",
       "      <th>15</th>\n",
       "      <td>P. Dybala</td>\n",
       "      <td>94</td>\n",
       "    </tr>\n",
       "    <tr>\n",
       "      <th>1</th>\n",
       "      <td>Cristiano Ronaldo</td>\n",
       "      <td>94</td>\n",
       "    </tr>\n",
       "    <tr>\n",
       "      <th>2</th>\n",
       "      <td>Neymar Jr</td>\n",
       "      <td>93</td>\n",
       "    </tr>\n",
       "    <tr>\n",
       "      <th>3</th>\n",
       "      <td>De Gea</td>\n",
       "      <td>93</td>\n",
       "    </tr>\n",
       "    <tr>\n",
       "      <th>9</th>\n",
       "      <td>J. Oblak</td>\n",
       "      <td>93</td>\n",
       "    </tr>\n",
       "    <tr>\n",
       "      <th>229</th>\n",
       "      <td>G. Donnarumma</td>\n",
       "      <td>93</td>\n",
       "    </tr>\n",
       "    <tr>\n",
       "      <th>1143</th>\n",
       "      <td>Vinícius Júnior</td>\n",
       "      <td>92</td>\n",
       "    </tr>\n",
       "    <tr>\n",
       "      <th>155</th>\n",
       "      <td>O. Dembélé</td>\n",
       "      <td>92</td>\n",
       "    </tr>\n",
       "  </tbody>\n",
       "</table>\n",
       "</div>"
      ],
      "text/plain": [
       "                   Name  Potential\n",
       "25            K. Mbappé         95\n",
       "0              L. Messi         94\n",
       "15            P. Dybala         94\n",
       "1     Cristiano Ronaldo         94\n",
       "2             Neymar Jr         93\n",
       "3                De Gea         93\n",
       "9              J. Oblak         93\n",
       "229       G. Donnarumma         93\n",
       "1143    Vinícius Júnior         92\n",
       "155          O. Dembélé         92"
      ]
     },
     "execution_count": 357,
     "metadata": {},
     "output_type": "execute_result"
    }
   ],
   "source": [
    "top1 = df.sort_values(by =  'Potential',ascending = False,inplace = False)\n",
    "top1 = top1.iloc[:10]\n",
    "top1 = top1[['Name','Potential']]\n",
    "top1"
   ]
  },
  {
   "cell_type": "markdown",
   "metadata": {},
   "source": [
    "## What is the comparision between age and player?"
   ]
  },
  {
   "cell_type": "code",
   "execution_count": 358,
   "metadata": {},
   "outputs": [
    {
     "data": {
      "image/png": "[encoded data removed]",
      "text/plain": [
       "<Figure size 864x576 with 1 Axes>"
      ]
     },
     "metadata": {},
     "output_type": "display_data"
    }
   ],
   "source": [
    "plt.figure(figsize = (12, 8))\n",
    "sns.set(style = 'dark', palette = 'colorblind', color_codes = True)\n",
    "ax = sns.countplot('Age', data = df, color = 'orange')\n",
    "ax.set_xlabel(xlabel = 'Age Of Players', fontsize = 16)\n",
    "ax.set_ylabel(ylabel = 'Count of Players', fontsize = 16)\n",
    "ax.set_title(label = 'Comparison of Age and Players', fontsize = 20)\n",
    "plt.show()"
   ]
  },
  {
   "cell_type": "markdown",
   "metadata": {},
   "source": [
    "## Forming Team with formation 4-4-2"
   ]
  },
  {
   "cell_type": "markdown",
   "metadata": {},
   "source": [
    "###          ST ST\n",
    "### LM LCM RCM RM\n",
    "### LB  LCB  RCB RB\n",
    "###         GK"
   ]
  },
  {
   "cell_type": "code",
   "execution_count": 368,
   "metadata": {},
   "outputs": [
    {
     "data": {
      "text/html": [
       "<div>\n",
       "<style scoped>\n",
       "    .dataframe tbody tr th:only-of-type {\n",
       "        vertical-align: middle;\n",
       "    }\n",
       "\n",
       "    .dataframe tbody tr th {\n",
       "        vertical-align: top;\n",
       "    }\n",
       "\n",
       "    .dataframe thead th {\n",
       "        text-align: right;\n",
       "    }\n",
       "</style>\n",
       "<table border=\"1\" class=\"dataframe\">\n",
       "  <thead>\n",
       "    <tr style=\"text-align: right;\">\n",
       "      <th></th>\n",
       "      <th>Position</th>\n",
       "      <th>Player Name</th>\n",
       "    </tr>\n",
       "  </thead>\n",
       "  <tbody>\n",
       "    <tr>\n",
       "      <th>0</th>\n",
       "      <td>LM</td>\n",
       "      <td>P. Aubameyang</td>\n",
       "    </tr>\n",
       "    <tr>\n",
       "      <th>1</th>\n",
       "      <td>LCM</td>\n",
       "      <td>T. Kroos</td>\n",
       "    </tr>\n",
       "    <tr>\n",
       "      <th>2</th>\n",
       "      <td>RCM</td>\n",
       "      <td>K. De Bruyne</td>\n",
       "    </tr>\n",
       "    <tr>\n",
       "      <th>3</th>\n",
       "      <td>RM</td>\n",
       "      <td>K. Mbappé</td>\n",
       "    </tr>\n",
       "    <tr>\n",
       "      <th>4</th>\n",
       "      <td>LB</td>\n",
       "      <td>Marcelo</td>\n",
       "    </tr>\n",
       "    <tr>\n",
       "      <th>5</th>\n",
       "      <td>LCB</td>\n",
       "      <td>G. Chiellini</td>\n",
       "    </tr>\n",
       "    <tr>\n",
       "      <th>6</th>\n",
       "      <td>RCB</td>\n",
       "      <td>Sergio Ramos</td>\n",
       "    </tr>\n",
       "    <tr>\n",
       "      <th>7</th>\n",
       "      <td>RB</td>\n",
       "      <td>Azpilicueta</td>\n",
       "    </tr>\n",
       "    <tr>\n",
       "      <th>8</th>\n",
       "      <td>ST</td>\n",
       "      <td>Cristiano Ronaldo</td>\n",
       "    </tr>\n",
       "    <tr>\n",
       "      <th>9</th>\n",
       "      <td>ST</td>\n",
       "      <td>R. Lewandowski</td>\n",
       "    </tr>\n",
       "  </tbody>\n",
       "</table>\n",
       "</div>"
      ],
      "text/plain": [
       "  Position        Player Name\n",
       "0       LM      P. Aubameyang\n",
       "1      LCM           T. Kroos\n",
       "2      RCM       K. De Bruyne\n",
       "3       RM          K. Mbappé\n",
       "4       LB            Marcelo\n",
       "5      LCB       G. Chiellini\n",
       "6      RCB       Sergio Ramos\n",
       "7       RB        Azpilicueta\n",
       "8       ST  Cristiano Ronaldo\n",
       "9       ST     R. Lewandowski"
      ]
     },
     "execution_count": 368,
     "metadata": {},
     "output_type": "execute_result"
    }
   ],
   "source": [
    "positions = ['LM','LCM','RCM','RM','LB','LCB','RCB','RB']\n",
    "player = []\n",
    "for i in positions:\n",
    "    temp = df[ df['Position'] == i ]\n",
    "    datapoint = temp[temp['Overall'] == temp['Overall'].max()]\n",
    "    player.append(datapoint._get_value(datapoint.index[0],'Name'))\n",
    "    \n",
    "temp = df[ df['Position']  == 'ST' ]\n",
    "temp = temp.sort_values(by ='Overall',ascending = False,inplace = False)\n",
    "\n",
    "player.append(temp._get_value(temp.index[0],'Name'))\n",
    "player.append(temp._get_value(temp.index[1],'Name'))\n",
    "positions.append('ST')\n",
    "positions.append('ST')\n",
    "dataframe = pd.DataFrame({'Position':pd.Series(positions),\n",
    "             'Player Name':pd.Series(player)})\n",
    "dataframe"
   ]
  },
  {
   "cell_type": "code",
   "execution_count": null,
   "metadata": {},
   "outputs": [],
   "source": []
  }
 ],
 "metadata": {
  "kernelspec": {
   "display_name": "Python 3",
   "language": "python",
   "name": "python3"
  },
  "language_info": {
   "codemirror_mode": {
    "name": "ipython",
    "version": 3
   },
   "file_extension": ".py",
   "mimetype": "text/x-python",
   "name": "python",
   "nbconvert_exporter": "python",
   "pygments_lexer": "ipython3",
   "version": "3.8.3"
  }
 },
 "nbformat": 4,
 "nbformat_minor": 4
}
